{
 "cells": [
  {
   "cell_type": "code",
   "execution_count": 1,
   "id": "c094090e",
   "metadata": {},
   "outputs": [],
   "source": [
    "import math\n",
    "import timeit\n",
    "import numpy as np\n",
    "import pandas as pd\n",
    "from collections import Counter\n",
    "import matplotlib.pyplot as plt\n",
    "from sklearn.decomposition import PCA\n",
    "from sklearn.metrics import accuracy_score\n",
    "from sklearn.preprocessing import MinMaxScaler\n",
    "from sklearn.ensemble import RandomForestClassifier\n",
    "from sklearn.model_selection import train_test_split\n",
    "from imblearn.under_sampling import RandomUnderSampler\n",
    "from imblearn.over_sampling import RandomOverSampler, SMOTE\n",
    "from sklearn.metrics import accuracy_score, confusion_matrix, precision_score, recall_score, fbeta_score"
   ]
  },
  {
   "cell_type": "markdown",
   "id": "00c7f7b1",
   "metadata": {},
   "source": [
    "### Importing Data "
   ]
  },
  {
   "cell_type": "code",
   "execution_count": 2,
   "id": "3e87bd52",
   "metadata": {},
   "outputs": [],
   "source": [
    "df= pd.read_csv('data10.csv')"
   ]
  },
  {
   "cell_type": "code",
   "execution_count": 3,
   "id": "7f207086",
   "metadata": {},
   "outputs": [
    {
     "data": {
      "text/html": [
       "<div>\n",
       "<style scoped>\n",
       "    .dataframe tbody tr th:only-of-type {\n",
       "        vertical-align: middle;\n",
       "    }\n",
       "\n",
       "    .dataframe tbody tr th {\n",
       "        vertical-align: top;\n",
       "    }\n",
       "\n",
       "    .dataframe thead th {\n",
       "        text-align: right;\n",
       "    }\n",
       "</style>\n",
       "<table border=\"1\" class=\"dataframe\">\n",
       "  <thead>\n",
       "    <tr style=\"text-align: right;\">\n",
       "      <th></th>\n",
       "      <th>Flow Duration</th>\n",
       "      <th>Tot Fwd Pkts</th>\n",
       "      <th>Tot Bwd Pkts</th>\n",
       "      <th>TotLen Fwd Pkts</th>\n",
       "      <th>TotLen Bwd Pkts</th>\n",
       "      <th>Fwd Pkt Len Max</th>\n",
       "      <th>Fwd Pkt Len Min</th>\n",
       "      <th>Fwd Pkt Len Mean</th>\n",
       "      <th>Fwd Pkt Len Std</th>\n",
       "      <th>Bwd Pkt Len Max</th>\n",
       "      <th>...</th>\n",
       "      <th>Fwd Seg Size Min</th>\n",
       "      <th>Active Mean</th>\n",
       "      <th>Active Std</th>\n",
       "      <th>Active Max</th>\n",
       "      <th>Active Min</th>\n",
       "      <th>Idle Mean</th>\n",
       "      <th>Idle Std</th>\n",
       "      <th>Idle Max</th>\n",
       "      <th>Idle Min</th>\n",
       "      <th>category</th>\n",
       "    </tr>\n",
       "  </thead>\n",
       "  <tbody>\n",
       "    <tr>\n",
       "      <th>0</th>\n",
       "      <td>119646801</td>\n",
       "      <td>17</td>\n",
       "      <td>16</td>\n",
       "      <td>597</td>\n",
       "      <td>768</td>\n",
       "      <td>293</td>\n",
       "      <td>0</td>\n",
       "      <td>35.120</td>\n",
       "      <td>97.06</td>\n",
       "      <td>384</td>\n",
       "      <td>...</td>\n",
       "      <td>20</td>\n",
       "      <td>45580.5</td>\n",
       "      <td>32287.848</td>\n",
       "      <td>131880</td>\n",
       "      <td>32165</td>\n",
       "      <td>9922286.0</td>\n",
       "      <td>281712.56</td>\n",
       "      <td>10014561</td>\n",
       "      <td>9030908</td>\n",
       "      <td>0</td>\n",
       "    </tr>\n",
       "    <tr>\n",
       "      <th>1</th>\n",
       "      <td>375</td>\n",
       "      <td>2</td>\n",
       "      <td>1</td>\n",
       "      <td>38</td>\n",
       "      <td>0</td>\n",
       "      <td>38</td>\n",
       "      <td>0</td>\n",
       "      <td>19.000</td>\n",
       "      <td>26.88</td>\n",
       "      <td>0</td>\n",
       "      <td>...</td>\n",
       "      <td>20</td>\n",
       "      <td>0.0</td>\n",
       "      <td>0.000</td>\n",
       "      <td>0</td>\n",
       "      <td>0</td>\n",
       "      <td>0.0</td>\n",
       "      <td>0.00</td>\n",
       "      <td>0</td>\n",
       "      <td>0</td>\n",
       "      <td>0</td>\n",
       "    </tr>\n",
       "    <tr>\n",
       "      <th>2</th>\n",
       "      <td>281</td>\n",
       "      <td>3</td>\n",
       "      <td>0</td>\n",
       "      <td>46</td>\n",
       "      <td>0</td>\n",
       "      <td>46</td>\n",
       "      <td>0</td>\n",
       "      <td>15.336</td>\n",
       "      <td>26.56</td>\n",
       "      <td>0</td>\n",
       "      <td>...</td>\n",
       "      <td>20</td>\n",
       "      <td>0.0</td>\n",
       "      <td>0.000</td>\n",
       "      <td>0</td>\n",
       "      <td>0</td>\n",
       "      <td>0.0</td>\n",
       "      <td>0.00</td>\n",
       "      <td>0</td>\n",
       "      <td>0</td>\n",
       "      <td>0</td>\n",
       "    </tr>\n",
       "    <tr>\n",
       "      <th>3</th>\n",
       "      <td>99999555</td>\n",
       "      <td>2</td>\n",
       "      <td>2</td>\n",
       "      <td>16</td>\n",
       "      <td>0</td>\n",
       "      <td>8</td>\n",
       "      <td>8</td>\n",
       "      <td>8.000</td>\n",
       "      <td>0.00</td>\n",
       "      <td>0</td>\n",
       "      <td>...</td>\n",
       "      <td>32</td>\n",
       "      <td>1.0</td>\n",
       "      <td>0.000</td>\n",
       "      <td>1</td>\n",
       "      <td>1</td>\n",
       "      <td>99999550.0</td>\n",
       "      <td>0.00</td>\n",
       "      <td>99999553</td>\n",
       "      <td>99999553</td>\n",
       "      <td>4</td>\n",
       "    </tr>\n",
       "    <tr>\n",
       "      <th>4</th>\n",
       "      <td>10070086</td>\n",
       "      <td>4</td>\n",
       "      <td>4</td>\n",
       "      <td>379</td>\n",
       "      <td>408</td>\n",
       "      <td>379</td>\n",
       "      <td>0</td>\n",
       "      <td>94.750</td>\n",
       "      <td>189.50</td>\n",
       "      <td>408</td>\n",
       "      <td>...</td>\n",
       "      <td>20</td>\n",
       "      <td>0.0</td>\n",
       "      <td>0.000</td>\n",
       "      <td>0</td>\n",
       "      <td>0</td>\n",
       "      <td>0.0</td>\n",
       "      <td>0.00</td>\n",
       "      <td>0</td>\n",
       "      <td>0</td>\n",
       "      <td>0</td>\n",
       "    </tr>\n",
       "  </tbody>\n",
       "</table>\n",
       "<p>5 rows × 69 columns</p>\n",
       "</div>"
      ],
      "text/plain": [
       "   Flow Duration  Tot Fwd Pkts  Tot Bwd Pkts  TotLen Fwd Pkts  \\\n",
       "0      119646801            17            16              597   \n",
       "1            375             2             1               38   \n",
       "2            281             3             0               46   \n",
       "3       99999555             2             2               16   \n",
       "4       10070086             4             4              379   \n",
       "\n",
       "   TotLen Bwd Pkts  Fwd Pkt Len Max  Fwd Pkt Len Min  Fwd Pkt Len Mean  \\\n",
       "0              768              293                0            35.120   \n",
       "1                0               38                0            19.000   \n",
       "2                0               46                0            15.336   \n",
       "3                0                8                8             8.000   \n",
       "4              408              379                0            94.750   \n",
       "\n",
       "   Fwd Pkt Len Std  Bwd Pkt Len Max  ...  Fwd Seg Size Min  Active Mean  \\\n",
       "0            97.06              384  ...                20      45580.5   \n",
       "1            26.88                0  ...                20          0.0   \n",
       "2            26.56                0  ...                20          0.0   \n",
       "3             0.00                0  ...                32          1.0   \n",
       "4           189.50              408  ...                20          0.0   \n",
       "\n",
       "   Active Std  Active Max  Active Min   Idle Mean   Idle Std  Idle Max  \\\n",
       "0   32287.848      131880       32165   9922286.0  281712.56  10014561   \n",
       "1       0.000           0           0         0.0       0.00         0   \n",
       "2       0.000           0           0         0.0       0.00         0   \n",
       "3       0.000           1           1  99999550.0       0.00  99999553   \n",
       "4       0.000           0           0         0.0       0.00         0   \n",
       "\n",
       "   Idle Min  category  \n",
       "0   9030908         0  \n",
       "1         0         0  \n",
       "2         0         0  \n",
       "3  99999553         4  \n",
       "4         0         0  \n",
       "\n",
       "[5 rows x 69 columns]"
      ]
     },
     "execution_count": 3,
     "metadata": {},
     "output_type": "execute_result"
    }
   ],
   "source": [
    "df.head()"
   ]
  },
  {
   "cell_type": "code",
   "execution_count": 4,
   "id": "1ccbb6cd",
   "metadata": {},
   "outputs": [
    {
     "data": {
      "text/plain": [
       "544.290584564209"
      ]
     },
     "execution_count": 4,
     "metadata": {},
     "output_type": "execute_result"
    }
   ],
   "source": [
    "# memory usage before changing Data Types\n",
    "df.memory_usage(deep=True).sum() / (1024**2) "
   ]
  },
  {
   "cell_type": "markdown",
   "id": "f23fdbea",
   "metadata": {},
   "source": [
    "### Import Data Types Dataset "
   ]
  },
  {
   "cell_type": "code",
   "execution_count": 5,
   "id": "9b54bc27",
   "metadata": {},
   "outputs": [],
   "source": [
    "df2=pd.read_csv('2018_best_dtypes.csv')"
   ]
  },
  {
   "cell_type": "code",
   "execution_count": 6,
   "id": "2818b70a",
   "metadata": {},
   "outputs": [],
   "source": [
    "df2.iloc[-1, 0] = \"category\"  #name of last column changed to category corresponding to main dataset inplace of Label"
   ]
  },
  {
   "cell_type": "markdown",
   "id": "a075082b",
   "metadata": {},
   "source": [
    "### Changing Data Types  "
   ]
  },
  {
   "cell_type": "code",
   "execution_count": 7,
   "id": "0f0cddc2",
   "metadata": {},
   "outputs": [],
   "source": [
    "for index, row in df2.iterrows():\n",
    "    feature_name = row['Column']  \n",
    "    data_type = row['Dtype']   \n",
    "    df[feature_name] = df[feature_name].astype(data_type)"
   ]
  },
  {
   "cell_type": "code",
   "execution_count": 8,
   "id": "96afe292",
   "metadata": {},
   "outputs": [
    {
     "data": {
      "text/plain": [
       "245.52245235443115"
      ]
     },
     "execution_count": 8,
     "metadata": {},
     "output_type": "execute_result"
    }
   ],
   "source": [
    "# memory usage after changing datatypes\n",
    "df.memory_usage(deep=True).sum() / (1024**2)"
   ]
  },
  {
   "cell_type": "markdown",
   "id": "351edb48",
   "metadata": {},
   "source": [
    "We can see a significant reduction in memory usage"
   ]
  },
  {
   "cell_type": "markdown",
   "id": "577cf9e1",
   "metadata": {},
   "source": [
    "### Splitting in Features and Category"
   ]
  },
  {
   "cell_type": "code",
   "execution_count": 9,
   "id": "1bff24f1",
   "metadata": {},
   "outputs": [],
   "source": [
    "X, y = df.iloc[:, :-1], df.iloc[:, -1]"
   ]
  },
  {
   "cell_type": "markdown",
   "id": "fbada443",
   "metadata": {},
   "source": [
    "### Case 1: Equal no. of benign and attack records after over-sampling, proportion of different attack class records remain same"
   ]
  },
  {
   "cell_type": "code",
   "execution_count": 10,
   "id": "b65a1e7e",
   "metadata": {},
   "outputs": [
    {
     "data": {
      "text/plain": [
       "Counter({0: 901347, 4: 19657, 3: 77595, 1: 14453, 5: 11382, 2: 9410, 6: 87})"
      ]
     },
     "execution_count": 10,
     "metadata": {},
     "output_type": "execute_result"
    }
   ],
   "source": [
    "Counter(y)"
   ]
  },
  {
   "cell_type": "code",
   "execution_count": 11,
   "id": "909c8274",
   "metadata": {},
   "outputs": [
    {
     "data": {
      "text/plain": [
       "{3: 527515, 4: 133634, 1: 98256, 5: 77378, 2: 63972, 6: 591}"
      ]
     },
     "execution_count": 11,
     "metadata": {},
     "output_type": "execute_result"
    }
   ],
   "source": [
    "sampling_strategy = round((y.value_counts()[0]/y.value_counts()[1:].sum())*y.value_counts()[1:]).to_dict()\n",
    "sampling_strategy = {key: int(value) for key, value in sampling_strategy.items()}\n",
    "sampling_strategy"
   ]
  },
  {
   "cell_type": "markdown",
   "id": "262204fc",
   "metadata": {},
   "source": [
    "#### Oversampling Attack Records"
   ]
  },
  {
   "cell_type": "code",
   "execution_count": 12,
   "id": "2f4c75c2",
   "metadata": {},
   "outputs": [],
   "source": [
    "rus = RandomOverSampler(sampling_strategy=sampling_strategy, random_state=42)\n",
    "\n",
    "X_undersampled, y_undersampled = rus.fit_resample(X, list(y))"
   ]
  },
  {
   "cell_type": "code",
   "execution_count": 13,
   "id": "a8e9728a",
   "metadata": {},
   "outputs": [],
   "source": [
    "y_undersampled = pd.Series(y_undersampled)"
   ]
  },
  {
   "cell_type": "code",
   "execution_count": 14,
   "id": "4005a552",
   "metadata": {},
   "outputs": [
    {
     "data": {
      "text/plain": [
       "Counter({0: 901347,\n",
       "         4: 133634,\n",
       "         3: 527515,\n",
       "         1: 98256,\n",
       "         5: 77378,\n",
       "         2: 63972,\n",
       "         6: 591})"
      ]
     },
     "execution_count": 14,
     "metadata": {},
     "output_type": "execute_result"
    }
   ],
   "source": [
    "Counter(y_undersampled)"
   ]
  },
  {
   "cell_type": "code",
   "execution_count": 15,
   "id": "84970b6c",
   "metadata": {},
   "outputs": [
    {
     "data": {
      "text/plain": [
       "901346"
      ]
     },
     "execution_count": 15,
     "metadata": {},
     "output_type": "execute_result"
    }
   ],
   "source": [
    "y_undersampled.value_counts()[1:].sum()"
   ]
  },
  {
   "cell_type": "code",
   "execution_count": 16,
   "id": "e26e6531",
   "metadata": {},
   "outputs": [],
   "source": [
    "sampling_strategy = {0: 901347, 1: 150224, 2: 150224, 3: 150224, 4: 150224, 5: 150224, 6: 150224}\n",
    "\n",
    "rus = RandomOverSampler(sampling_strategy=sampling_strategy, random_state=42)\n",
    "\n",
    "X_resampled, y_resampled = rus.fit_resample(X, list(y))"
   ]
  },
  {
   "cell_type": "code",
   "execution_count": 17,
   "id": "f8399b70",
   "metadata": {},
   "outputs": [
    {
     "name": "stdout",
     "output_type": "stream",
     "text": [
      "Class distribution after oversampling:\n"
     ]
    },
    {
     "data": {
      "text/plain": [
       "901344"
      ]
     },
     "execution_count": 17,
     "metadata": {},
     "output_type": "execute_result"
    }
   ],
   "source": [
    "print(\"Class distribution after oversampling:\")\n",
    "y_resampled = pd.Series(y_resampled)\n",
    "y_resampled.value_counts()[1:].sum()"
   ]
  },
  {
   "cell_type": "markdown",
   "id": "20e11e0b",
   "metadata": {},
   "source": [
    "### Splitting Data in Training and Testing"
   ]
  },
  {
   "cell_type": "code",
   "execution_count": 18,
   "id": "dc81f7a4",
   "metadata": {
    "scrolled": true
   },
   "outputs": [],
   "source": [
    "X_train, X_test, y_train, y_test = train_test_split(X_resampled, y_resampled, test_size=0.3, stratify=y_resampled)"
   ]
  },
  {
   "cell_type": "markdown",
   "id": "36d52ef1",
   "metadata": {},
   "source": [
    "### Value Counts of Category after Splitting"
   ]
  },
  {
   "cell_type": "code",
   "execution_count": 19,
   "id": "3866d2b7",
   "metadata": {},
   "outputs": [],
   "source": [
    "y_train = pd.Series(y_train)\n",
    "y_test = pd.Series(y_test)"
   ]
  },
  {
   "cell_type": "markdown",
   "id": "6fdacedb",
   "metadata": {},
   "source": [
    "We can see that stratification has led to maintained proportion between categories"
   ]
  },
  {
   "cell_type": "markdown",
   "id": "c3adcde6",
   "metadata": {},
   "source": [
    "### Normalization "
   ]
  },
  {
   "cell_type": "code",
   "execution_count": 20,
   "id": "668496ca",
   "metadata": {},
   "outputs": [],
   "source": [
    "scaler = MinMaxScaler()\n",
    "X_train_scaled = scaler.fit_transform(X_train)\n",
    "X_test_scaled = scaler.transform(X_test)"
   ]
  },
  {
   "cell_type": "markdown",
   "id": "9e90daaf",
   "metadata": {},
   "source": [
    "### Applying PCA "
   ]
  },
  {
   "cell_type": "code",
   "execution_count": 21,
   "id": "6fb0844a",
   "metadata": {},
   "outputs": [],
   "source": [
    "pca = PCA(n_components=0.95, random_state=0)\n",
    "X_train_pca = pca.fit_transform(X_train_scaled)\n",
    "X_test_pca = pca.transform(X_test_scaled)"
   ]
  },
  {
   "cell_type": "code",
   "execution_count": 22,
   "id": "d150164f",
   "metadata": {},
   "outputs": [],
   "source": [
    "variance_ratios = pca.explained_variance_ratio_"
   ]
  },
  {
   "cell_type": "code",
   "execution_count": 23,
   "id": "317c5136",
   "metadata": {},
   "outputs": [
    {
     "data": {
      "text/plain": [
       "array([0.41705121, 0.17588499, 0.11867451, 0.06434618, 0.05190822,\n",
       "       0.04990597, 0.03180781, 0.02284729, 0.01898347])"
      ]
     },
     "execution_count": 23,
     "metadata": {},
     "output_type": "execute_result"
    }
   ],
   "source": [
    "variance_ratios"
   ]
  },
  {
   "cell_type": "markdown",
   "id": "88e5db35",
   "metadata": {},
   "source": [
    "variance %s of 1st and 2nd principle components are - 38.6% and 20.8%"
   ]
  },
  {
   "cell_type": "code",
   "execution_count": 24,
   "id": "5b4f372d",
   "metadata": {},
   "outputs": [],
   "source": [
    "# converting the arrays given by PCA to DataFrame\n",
    "X_train_pca = pd.DataFrame(X_train_pca)\n",
    "X_test_pca=pd.DataFrame(X_test_pca)"
   ]
  },
  {
   "cell_type": "markdown",
   "id": "70007db8",
   "metadata": {},
   "source": [
    "### Applying Random Forest Classifier "
   ]
  },
  {
   "cell_type": "code",
   "execution_count": 25,
   "id": "217e7491",
   "metadata": {},
   "outputs": [],
   "source": [
    "model = RandomForestClassifier()"
   ]
  },
  {
   "cell_type": "code",
   "execution_count": 26,
   "id": "58d181cf",
   "metadata": {},
   "outputs": [],
   "source": [
    "# removing non-integer values from labels \n",
    "y_train=y_train.astype('int')\n",
    "y_test=y_test.astype('int')"
   ]
  },
  {
   "cell_type": "markdown",
   "id": "541c78eb",
   "metadata": {},
   "source": [
    "##### Calculating Time "
   ]
  },
  {
   "cell_type": "code",
   "execution_count": 27,
   "id": "0349d8d6",
   "metadata": {},
   "outputs": [],
   "source": [
    "# training time for running model\n",
    "training_time = timeit.timeit(lambda: model.fit(X_train_pca, y_train), number=1) "
   ]
  },
  {
   "cell_type": "code",
   "execution_count": 28,
   "id": "a7ce1c07",
   "metadata": {},
   "outputs": [],
   "source": [
    "start_time = timeit.default_timer()\n",
    "y_pred = model.predict(X_test_pca)\n",
    "testing_time = timeit.default_timer() - start_time"
   ]
  },
  {
   "cell_type": "code",
   "execution_count": 29,
   "id": "fd5827a8",
   "metadata": {},
   "outputs": [
    {
     "name": "stdout",
     "output_type": "stream",
     "text": [
      "Average Training Time: 1540.7864620000037\n",
      "Testing Time: 11.156162100000074\n"
     ]
    }
   ],
   "source": [
    "print(\"Average Training Time:\", training_time) \n",
    "print(\"Testing Time:\", testing_time)"
   ]
  },
  {
   "cell_type": "markdown",
   "id": "51290bfa",
   "metadata": {},
   "source": [
    "### Scoring Metrics"
   ]
  },
  {
   "cell_type": "markdown",
   "id": "c4436c2e",
   "metadata": {},
   "source": [
    "##### Confusion Matrix "
   ]
  },
  {
   "cell_type": "code",
   "execution_count": 30,
   "id": "4b0ca8b3",
   "metadata": {},
   "outputs": [
    {
     "data": {
      "text/plain": [
       "array([[266152,     21,      1,     15,     11,   4063,    142],\n",
       "       [     0,  45067,      0,      0,      0,      0,      0],\n",
       "       [     0,      0,  45067,      0,      0,      0,      0],\n",
       "       [    14,      0,      0,  45053,      0,      0,      0],\n",
       "       [     0,      0,      0,      0,  45067,      0,      0],\n",
       "       [  1634,     15,      0,      0,      0,  43418,      0],\n",
       "       [     0,      0,      0,      0,      0,      0,  45068]],\n",
       "      dtype=int64)"
      ]
     },
     "execution_count": 30,
     "metadata": {},
     "output_type": "execute_result"
    }
   ],
   "source": [
    "confusion_matrix(y_test, y_pred)"
   ]
  },
  {
   "cell_type": "markdown",
   "id": "e8377359",
   "metadata": {},
   "source": [
    "##### Accuracy"
   ]
  },
  {
   "cell_type": "code",
   "execution_count": 31,
   "id": "6ab9cb5a",
   "metadata": {},
   "outputs": [
    {
     "data": {
      "text/plain": [
       "0.9890608127098711"
      ]
     },
     "execution_count": 31,
     "metadata": {},
     "output_type": "execute_result"
    }
   ],
   "source": [
    "accuracy_score(y_test, y_pred)"
   ]
  },
  {
   "cell_type": "markdown",
   "id": "e9bf112e",
   "metadata": {},
   "source": [
    "##### Precision"
   ]
  },
  {
   "cell_type": "code",
   "execution_count": 32,
   "id": "9cb74aa3",
   "metadata": {},
   "outputs": [
    {
     "data": {
      "text/plain": [
       "0.9894140167601874"
      ]
     },
     "execution_count": 32,
     "metadata": {},
     "output_type": "execute_result"
    }
   ],
   "source": [
    "precision_score(y_test, y_pred, average='weighted')"
   ]
  },
  {
   "cell_type": "markdown",
   "id": "6072de46",
   "metadata": {},
   "source": [
    "##### Recall"
   ]
  },
  {
   "cell_type": "code",
   "execution_count": 33,
   "id": "888a07a4",
   "metadata": {},
   "outputs": [
    {
     "data": {
      "text/plain": [
       "0.9890608127098711"
      ]
     },
     "execution_count": 33,
     "metadata": {},
     "output_type": "execute_result"
    }
   ],
   "source": [
    "recall_score(y_test, y_pred, average='weighted')"
   ]
  },
  {
   "cell_type": "markdown",
   "id": "57fa1175",
   "metadata": {},
   "source": [
    "##### F-2 Score "
   ]
  },
  {
   "cell_type": "code",
   "execution_count": 34,
   "id": "9f1fe230",
   "metadata": {},
   "outputs": [
    {
     "data": {
      "text/plain": [
       "0.9890893080516204"
      ]
     },
     "execution_count": 34,
     "metadata": {},
     "output_type": "execute_result"
    }
   ],
   "source": [
    "fbeta_score(y_test, y_pred, beta=2, average='weighted')"
   ]
  },
  {
   "cell_type": "markdown",
   "id": "d10b76ca",
   "metadata": {},
   "source": [
    "### Case 2: Equal no. of benign and attacks records, no. of records of different attack classes must be equal"
   ]
  },
  {
   "cell_type": "code",
   "execution_count": 35,
   "id": "4573ff0c",
   "metadata": {},
   "outputs": [
    {
     "data": {
      "text/plain": [
       "150225"
      ]
     },
     "execution_count": 35,
     "metadata": {},
     "output_type": "execute_result"
    }
   ],
   "source": [
    "# samples of each to make the sum of attack records equal to Bengin\n",
    "count = math.ceil(y.value_counts()[0]/6)\n",
    "count"
   ]
  },
  {
   "cell_type": "code",
   "execution_count": 36,
   "id": "ad416943",
   "metadata": {},
   "outputs": [],
   "source": [
    "count_of_benign = count*6"
   ]
  },
  {
   "cell_type": "code",
   "execution_count": 37,
   "id": "44ab3fd2",
   "metadata": {},
   "outputs": [],
   "source": [
    "sampling_strategy = {0: count_of_benign}\n",
    "for i in range(1, 7): sampling_strategy[i] = count"
   ]
  },
  {
   "cell_type": "markdown",
   "id": "2d5ba78f",
   "metadata": {},
   "source": [
    "#### Oversampling Every Label to Match the Sum of Bengin and Attack Records"
   ]
  },
  {
   "cell_type": "code",
   "execution_count": 38,
   "id": "e1a74e7c",
   "metadata": {},
   "outputs": [],
   "source": [
    "rus = RandomOverSampler(sampling_strategy=sampling_strategy, random_state=42)\n",
    "\n",
    "X_resampled, y_resampled = rus.fit_resample(X, list(y))"
   ]
  },
  {
   "cell_type": "code",
   "execution_count": 39,
   "id": "6dba82fa",
   "metadata": {},
   "outputs": [],
   "source": [
    "y_resampled = pd.Series(y_resampled)"
   ]
  },
  {
   "cell_type": "code",
   "execution_count": 40,
   "id": "93910a8c",
   "metadata": {},
   "outputs": [
    {
     "data": {
      "text/plain": [
       "0    901350\n",
       "4    150225\n",
       "3    150225\n",
       "1    150225\n",
       "5    150225\n",
       "2    150225\n",
       "6    150225\n",
       "Name: count, dtype: int64"
      ]
     },
     "execution_count": 40,
     "metadata": {},
     "output_type": "execute_result"
    }
   ],
   "source": [
    "y_resampled.value_counts()"
   ]
  },
  {
   "cell_type": "markdown",
   "id": "e22cceae",
   "metadata": {},
   "source": [
    "### Splitting Data in Training and Testing"
   ]
  },
  {
   "cell_type": "code",
   "execution_count": 41,
   "id": "c7d01ec9",
   "metadata": {
    "scrolled": true
   },
   "outputs": [],
   "source": [
    "X_train, X_test, y_train, y_test = train_test_split(X_resampled, y_resampled, test_size=0.3, stratify=y_resampled)"
   ]
  },
  {
   "cell_type": "markdown",
   "id": "4a9d406f",
   "metadata": {},
   "source": [
    "### Value Counts of Category after Splitting"
   ]
  },
  {
   "cell_type": "code",
   "execution_count": 42,
   "id": "ba8b5fe3",
   "metadata": {},
   "outputs": [],
   "source": [
    "y_train = pd.Series(y_train)\n",
    "y_test = pd.Series(y_test)"
   ]
  },
  {
   "cell_type": "markdown",
   "id": "e6155daf",
   "metadata": {},
   "source": [
    "We can see that stratification has led to maintained proportion between categories"
   ]
  },
  {
   "cell_type": "markdown",
   "id": "46f25b61",
   "metadata": {},
   "source": [
    "### Normalization "
   ]
  },
  {
   "cell_type": "code",
   "execution_count": 43,
   "id": "ffa82e86",
   "metadata": {},
   "outputs": [],
   "source": [
    "scaler = MinMaxScaler()\n",
    "X_train_scaled = scaler.fit_transform(X_train)\n",
    "X_test_scaled = scaler.transform(X_test)"
   ]
  },
  {
   "cell_type": "markdown",
   "id": "d33c086b",
   "metadata": {},
   "source": [
    "### Applying PCA "
   ]
  },
  {
   "cell_type": "code",
   "execution_count": 44,
   "id": "deb06234",
   "metadata": {},
   "outputs": [],
   "source": [
    "pca = PCA(n_components=0.95, random_state=0)\n",
    "X_train_pca = pca.fit_transform(X_train_scaled)\n",
    "X_test_pca = pca.transform(X_test_scaled)"
   ]
  },
  {
   "cell_type": "code",
   "execution_count": 45,
   "id": "bcd72ca4",
   "metadata": {},
   "outputs": [],
   "source": [
    "variance_ratios = pca.explained_variance_ratio_"
   ]
  },
  {
   "cell_type": "code",
   "execution_count": 46,
   "id": "6263c14d",
   "metadata": {},
   "outputs": [
    {
     "data": {
      "text/plain": [
       "array([0.41870387, 0.17631678, 0.11914515, 0.06333655, 0.05120626,\n",
       "       0.04995581, 0.03170566, 0.0226773 , 0.01892634])"
      ]
     },
     "execution_count": 46,
     "metadata": {},
     "output_type": "execute_result"
    }
   ],
   "source": [
    "variance_ratios"
   ]
  },
  {
   "cell_type": "markdown",
   "id": "32773508",
   "metadata": {},
   "source": [
    "variance %s of 1st and 2nd principle components are - 38.6% and 20.8%"
   ]
  },
  {
   "cell_type": "code",
   "execution_count": 47,
   "id": "9cfdfe93",
   "metadata": {},
   "outputs": [],
   "source": [
    "# converting the arrays given by PCA to DataFrame\n",
    "X_train_pca = pd.DataFrame(X_train_pca)\n",
    "X_test_pca=pd.DataFrame(X_test_pca)"
   ]
  },
  {
   "cell_type": "markdown",
   "id": "3b3af705",
   "metadata": {},
   "source": [
    "### Applying Random Forest Classifier "
   ]
  },
  {
   "cell_type": "code",
   "execution_count": 48,
   "id": "aded0ec3",
   "metadata": {},
   "outputs": [],
   "source": [
    "model = RandomForestClassifier()"
   ]
  },
  {
   "cell_type": "code",
   "execution_count": 49,
   "id": "c29d4e33",
   "metadata": {},
   "outputs": [],
   "source": [
    "# removing non-integer values from labels \n",
    "y_train=y_train.astype('int')\n",
    "y_test=y_test.astype('int')"
   ]
  },
  {
   "cell_type": "markdown",
   "id": "c1889077",
   "metadata": {},
   "source": [
    "##### Calculating Time "
   ]
  },
  {
   "cell_type": "code",
   "execution_count": 50,
   "id": "5dafbd17",
   "metadata": {},
   "outputs": [],
   "source": [
    "# training time for running model\n",
    "training_time = timeit.timeit(lambda: model.fit(X_train_pca, y_train), number=1) "
   ]
  },
  {
   "cell_type": "code",
   "execution_count": 51,
   "id": "7c6f9dad",
   "metadata": {},
   "outputs": [],
   "source": [
    "start_time = timeit.default_timer()\n",
    "y_pred = model.predict(X_test_pca)\n",
    "testing_time = timeit.default_timer() - start_time"
   ]
  },
  {
   "cell_type": "code",
   "execution_count": 52,
   "id": "ac9d3410",
   "metadata": {},
   "outputs": [
    {
     "name": "stdout",
     "output_type": "stream",
     "text": [
      "Average Training Time: 662.6514717999962\n",
      "Testing Time: 9.570823800007929\n"
     ]
    }
   ],
   "source": [
    "print(\"Average Training Time:\", training_time) \n",
    "print(\"Testing Time:\", testing_time)"
   ]
  },
  {
   "cell_type": "markdown",
   "id": "6a1ed75a",
   "metadata": {},
   "source": [
    "### Scoring Metrics"
   ]
  },
  {
   "cell_type": "markdown",
   "id": "ca5886da",
   "metadata": {},
   "source": [
    "##### Confusion Matrix "
   ]
  },
  {
   "cell_type": "code",
   "execution_count": 53,
   "id": "80dd2d4d",
   "metadata": {},
   "outputs": [
    {
     "data": {
      "text/plain": [
       "array([[265988,     21,      0,     19,     19,   4203,    155],\n",
       "       [     0,  45061,      0,      0,      0,      6,      0],\n",
       "       [     0,      0,  45067,      0,      0,      0,      0],\n",
       "       [     7,      0,      0,  45061,      0,      0,      0],\n",
       "       [     0,      0,      0,      0,  45067,      0,      0],\n",
       "       [  1669,      9,      0,      0,      0,  43390,      0],\n",
       "       [     0,      0,      0,      0,      0,      0,  45068]],\n",
       "      dtype=int64)"
      ]
     },
     "execution_count": 53,
     "metadata": {},
     "output_type": "execute_result"
    }
   ],
   "source": [
    "confusion_matrix(y_test, y_pred)"
   ]
  },
  {
   "cell_type": "markdown",
   "id": "a3eceed4",
   "metadata": {},
   "source": [
    "##### Accuracy"
   ]
  },
  {
   "cell_type": "code",
   "execution_count": 54,
   "id": "c98ce391",
   "metadata": {},
   "outputs": [
    {
     "data": {
      "text/plain": [
       "0.9887058301436734"
      ]
     },
     "execution_count": 54,
     "metadata": {},
     "output_type": "execute_result"
    }
   ],
   "source": [
    "accuracy_score(y_test, y_pred)"
   ]
  },
  {
   "cell_type": "markdown",
   "id": "0355e057",
   "metadata": {},
   "source": [
    "##### Precision"
   ]
  },
  {
   "cell_type": "code",
   "execution_count": 55,
   "id": "7e36b155",
   "metadata": {},
   "outputs": [
    {
     "data": {
      "text/plain": [
       "0.9890889666884527"
      ]
     },
     "execution_count": 55,
     "metadata": {},
     "output_type": "execute_result"
    }
   ],
   "source": [
    "precision_score(y_test, y_pred, average='weighted')"
   ]
  },
  {
   "cell_type": "markdown",
   "id": "15fcd988",
   "metadata": {},
   "source": [
    "##### Recall"
   ]
  },
  {
   "cell_type": "code",
   "execution_count": 56,
   "id": "ca1851aa",
   "metadata": {},
   "outputs": [
    {
     "data": {
      "text/plain": [
       "0.9887058301436734"
      ]
     },
     "execution_count": 56,
     "metadata": {},
     "output_type": "execute_result"
    }
   ],
   "source": [
    "recall_score(y_test, y_pred, average='weighted')"
   ]
  },
  {
   "cell_type": "markdown",
   "id": "41efae35",
   "metadata": {},
   "source": [
    "##### F-2 Score "
   ]
  },
  {
   "cell_type": "code",
   "execution_count": 57,
   "id": "2e7af16f",
   "metadata": {},
   "outputs": [
    {
     "data": {
      "text/plain": [
       "0.988736199916296"
      ]
     },
     "execution_count": 57,
     "metadata": {},
     "output_type": "execute_result"
    }
   ],
   "source": [
    "fbeta_score(y_test, y_pred, beta=2, average='weighted')"
   ]
  }
 ],
 "metadata": {
  "kernelspec": {
   "display_name": "Python 3 (ipykernel)",
   "language": "python",
   "name": "python3"
  },
  "language_info": {
   "codemirror_mode": {
    "name": "ipython",
    "version": 3
   },
   "file_extension": ".py",
   "mimetype": "text/x-python",
   "name": "python",
   "nbconvert_exporter": "python",
   "pygments_lexer": "ipython3",
   "version": "3.11.2"
  }
 },
 "nbformat": 4,
 "nbformat_minor": 5
}
